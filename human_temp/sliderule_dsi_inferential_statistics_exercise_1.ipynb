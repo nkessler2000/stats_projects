{
 "cells": [
  {
   "cell_type": "markdown",
   "metadata": {},
   "source": [
    "# What is the True Normal Human Body Temperature? \n",
    "\n",
    "#### Background\n",
    "\n",
    "The mean normal body temperature was held to be 37$^{\\circ}$C or 98.6$^{\\circ}$F for more than 120 years since it was first conceptualized and reported by Carl Wunderlich in a famous 1868 book. But, is this value statistically correct?"
   ]
  },
  {
   "cell_type": "markdown",
   "metadata": {},
   "source": [
    "<h3>Exercises</h3>\n",
    "\n",
    "<p>In this exercise, you will analyze a dataset of human body temperatures and employ the concepts of hypothesis testing, confidence intervals, and statistical significance.</p>\n",
    "\n",
    "<p>Answer the following questions <b>in this notebook below and submit to your Github account</b>.</p> \n",
    "\n",
    "<ol>\n",
    "<li>  Is the distribution of body temperatures normal? \n",
    "    <ul>\n",
    "    <li> Although this is not a requirement for CLT to hold (read CLT carefully), it gives us some peace of mind that the population may also be normally distributed if we assume that this sample is representative of the population.\n",
    "    </ul>\n",
    "<li>  Is the sample size large? Are the observations independent?\n",
    "    <ul>\n",
    "    <li> Remember that this is a condition for the CLT, and hence the statistical tests we are using, to apply.\n",
    "    </ul>\n",
    "<li>  Is the true population mean really 98.6 degrees F?\n",
    "    <ul>\n",
    "    <li> Would you use a one-sample or two-sample test? Why?\n",
    "    <li> In this situation, is it appropriate to use the $t$ or $z$ statistic? \n",
    "    <li> Now try using the other test. How is the result be different? Why?\n",
    "    </ul>\n",
    "<li>  Draw a small sample of size 10 from the data and repeat both tests. \n",
    "    <ul>\n",
    "    <li> Which one is the correct one to use? \n",
    "    <li> What do you notice? What does this tell you about the difference in application of the $t$ and $z$ statistic?\n",
    "    </ul>\n",
    "<li>  At what temperature should we consider someone's temperature to be \"abnormal\"?\n",
    "    <ul>\n",
    "    <li> Start by computing the margin of error and confidence interval.\n",
    "    </ul>\n",
    "<li>  Is there a significant difference between males and females in normal temperature?\n",
    "    <ul>\n",
    "    <li> What test did you use and why?\n",
    "    <li> Write a story with your conclusion in the context of the original problem.\n",
    "    </ul>\n",
    "</ol>\n",
    "\n",
    "You can include written notes in notebook cells using Markdown: \n",
    "   - In the control panel at the top, choose Cell > Cell Type > Markdown\n",
    "   - Markdown syntax: http://nestacms.com/docs/creating-content/markdown-cheat-sheet\n",
    "\n",
    "#### Resources\n",
    "\n",
    "+ Information and data sources: http://www.amstat.org/publications/jse/datasets/normtemp.txt, http://www.amstat.org/publications/jse/jse_data_archive.htm\n",
    "+ Markdown syntax: http://nestacms.com/docs/creating-content/markdown-cheat-sheet\n",
    "\n",
    "****"
   ]
  },
  {
   "cell_type": "code",
   "execution_count": 2,
   "metadata": {
    "collapsed": true
   },
   "outputs": [],
   "source": [
    "import pandas as pd\n",
    "import numpy as np\n",
    "import matplotlib.pyplot as plt\n",
    "import seaborn as sns\n",
    "from scipy import stats\n",
    "\n",
    "df = pd.read_csv('data/human_body_temperature.csv')\n"
   ]
  },
  {
   "cell_type": "code",
   "execution_count": 3,
   "metadata": {},
   "outputs": [
    {
     "data": {
      "image/png": "[encoded data removed]",
      "text/plain": [
       "<matplotlib.figure.Figure at 0x192a4e64898>"
      ]
     },
     "metadata": {},
     "output_type": "display_data"
    }
   ],
   "source": [
    "# Visualize the data to see it's shape. Plot a histgram and distribution\n",
    "# curve along with a theoretical normal distribution\n",
    "\n",
    "# create a theoretical normal distribution sample\n",
    "theor_norm = np.random.normal(df['temperature'].mean(), \n",
    "                              df['temperature'].std(), 10000)\n",
    "\n",
    "\n",
    "# get summary statistics from the data\n",
    "summary = stats.describe(df['temperature'])\n",
    "\n",
    "# plot\n",
    "%matplotlib inline\n",
    "\n",
    "_ = sns.distplot(df['temperature'], bins=10, color='blue')\n",
    "_ = sns.kdeplot(theor_norm, color='red') \n",
    "_ = plt.xlabel('Temperature (F)')\n",
    "_ = plt.ylabel('Probability')\n",
    "_ = plt.vlines(x=summary.mean, ymin=0, ymax=1, \n",
    "               color='black', alpha=0.5, linestyles='dashed')\n",
    "_ = plt.figtext(.15, .8, 'Skewness: {0}'.format(round(summary.skewness,5)))\n",
    "_ = plt.figtext(.15, .75, 'Kurtosis: {0}'.format(round(summary.kurtosis,5)))\n",
    "plt.show()\n",
    "\n",
    "\n"
   ]
  },
  {
   "cell_type": "markdown",
   "metadata": {},
   "source": [
    "##### Question 1\n",
    "Plotting a histogram and distribution curve of the tempearture data reveals that the shape of the data is approximately normal with some skewness to the left. \n",
    "\n",
    "Plotting a theoretical normal distribution generated from the mean and standard deviation of the data shows that the distribution curve of the data closely matches a theoretical normal distribution.\n",
    "\n",
    "The distribution's skewness is $-0.00437$ indicating a slight left skew.\n",
    "\n",
    "Given this, it's fair to assume our observations of tempeartures are approximately normal."
   ]
  },
  {
   "cell_type": "code",
   "execution_count": 4,
   "metadata": {},
   "outputs": [
    {
     "data": {
      "text/plain": [
       "130"
      ]
     },
     "execution_count": 4,
     "metadata": {},
     "output_type": "execute_result"
    }
   ],
   "source": [
    "# Is the sample size large? Are the observations independent?\n",
    "# Remember that this is a condition for the CLT, Central Limit Theorm\n",
    "# and hence the statistical tests we are using, to apply.\n",
    "\n",
    "len(df)\n"
   ]
  },
  {
   "cell_type": "markdown",
   "metadata": {},
   "source": [
    "##### Question 2\n",
    "The dataset has 130 observations meaning it is large enough for the central limit theorm to apply. Becasuse this is a random sample, the observations are independent and identically distributred."
   ]
  },
  {
   "cell_type": "code",
   "execution_count": 9,
   "metadata": {},
   "outputs": [
    {
     "name": "stdout",
     "output_type": "stream",
     "text": [
      "-5.47592520208 4.26526887143e-08 2.41063204156e-07\n"
     ]
    }
   ],
   "source": [
    "# Compute the z-statistic and t-statistics values\n",
    "pop_mean = 98.6\n",
    "se = stats.sem(df['temperature'], ddof=0)\n",
    "\n",
    "z = (df['temperature'].mean() - pop_mean) / se\n",
    "t = (stats.ttest_1samp(df['temperature'], pop_mean)).statistic\n",
    "\n",
    "pval_z = 1.96*(1-stats.norm.cdf(abs(z)))\n",
    "pval_t = (stats.ttest_1samp(df['temperature'], pop_mean)).pvalue\n",
    "print(z,pval_z, pval_t)\n"
   ]
  },
  {
   "cell_type": "markdown",
   "metadata": {},
   "source": [
    "#### Question 3\n",
    "For this test, we choose a one-sample test since we're only looking at the total\n",
    "mean for the entire sample. If we wanted to compare males to females, we'd want two sample. With a sample size of 130, a Z-test would be appropriate.\n",
    "\n",
    "$H_0$ - $\\mu = 98.6$<br>\n",
    "$H_A$ - $\\mu \\ne 98.6$\n",
    "\n",
    "The sample mean $\\bar{x}= 98.2492$\n",
    "\n",
    "The computed $z$-statistic,\n",
    "$$z= \\dfrac{\\bar{x} - \\mu}{SE} = \\dfrac{98.2494-96.6}{0.0643}=-5.4548$$\n",
    "tells us that our sample standard mean is $-5.4548$ standard errors away from the mean. The probability of getting a $z$-statistic this extreme based on chance is $>0.0000005%$, indicating that we should reject the null hypothesis that the population mean is equal to $98.6^{\\circ} F$\n",
    "\n",
    "Performing a t-test, we get a $p$-value of $2.41063204156\\times10^{-7}$, so we'd still reject the null hypothesis.\n"
   ]
  },
  {
   "cell_type": "code",
   "execution_count": 11,
   "metadata": {},
   "outputs": [
    {
     "name": "stdout",
     "output_type": "stream",
     "text": [
      "-2.93860416802 -2.78780469378 0.00323099968644 0.0211295098566\n"
     ]
    }
   ],
   "source": [
    "# pick ten random observations\n",
    "sample_10 = np.random.choice(df['temperature'], 10)\n",
    "\n",
    "# compute stats for our 10 valued sample\n",
    "se_10 = stats.sem(sample_10, ddof=0)\n",
    "z_10 = (sample_10.mean() - pop_mean) / se_10\n",
    "t_10 = (stats.ttest_1samp(sample_10, pop_mean)).statistic\n",
    "pval_z10 = 1.96*(1-stats.norm.cdf(abs(z_10, ),))\n",
    "pval_t10 = (stats.ttest_1samp(sample_10, pop_mean)).pvalue\n",
    "\n",
    "print(z_10, t_10, pval_z10, pval_t10)"
   ]
  },
  {
   "cell_type": "markdown",
   "metadata": {},
   "source": [
    "#### Question 4\n",
    "Draw a small sample of size 10 from the data and repeat both tests.\n",
    "Which one is the correct one to use?\n",
    "What do you notice? What does this tell you about the difference in application of the  tt  and  zz  statistic?\n",
    "\n",
    "For small samples ($n<30$), we want to use the T-test for our hypothesis testing. Using 10 randomly chosen observations from our dataset, of the $z$-statistic and $t$-statistic give $p$-values of $0.19671$ and $0.25176$ respectively. Based on a confidence level of $99\\%$, we'd fail to reject the null hypothesis based on this subset. The $t$-test returns a much larger $p$-value than the $z$-test."
   ]
  },
  {
   "cell_type": "code",
   "execution_count": 12,
   "metadata": {},
   "outputs": [
    {
     "name": "stdout",
     "output_type": "stream",
     "text": [
      "0.125550964803\n",
      "[98.123679804428164, 98.374781734033334]\n"
     ]
    }
   ],
   "source": [
    "me = 1.96 * se\n",
    "ci = [summary.mean - me, summary.mean + me]\n",
    "print(me)\n",
    "print(ci)"
   ]
  },
  {
   "cell_type": "markdown",
   "metadata": {},
   "source": [
    "#### Question 5\n",
    "Using a $95\\%$ confidence interval, we'd use $z^* = 1.96$.\n",
    "$$ME = z^* \\times SE = 1.96 \\times 0.06406 = 0.12555$$\n",
    "\n",
    "Our confidence interval is \n",
    "$$\\bar{x} \\pm ME = [98.12367, 98.37478]$$\n",
    "\n",
    "Thus any temperature outside of this range would be considered abnormal."
   ]
  },
  {
   "cell_type": "code",
   "execution_count": 13,
   "metadata": {},
   "outputs": [
    {
     "name": "stdout",
     "output_type": "stream",
     "text": [
      "0.12655395042 -2.28543453817 0.0239318831224\n"
     ]
    }
   ],
   "source": [
    "#create Series for male and female temperatures\n",
    "temps_m = df['temperature'][df['gender'] == 'M']\n",
    "temps_f = df['temperature'][df['gender'] == 'F']\n",
    "\n",
    "# calculate SE\n",
    "se_mf = np.sqrt(temps_m.var()/len(temps_m) + temps_f.var()/len(temps_f))\n",
    "#calculate T\n",
    "t_mf = (temps_m.mean() - temps_f.mean())/se_mf\n",
    "\n",
    "#get p-value using ttest_ind function from scipy.stats\n",
    "pval_mf = stats.ttest_ind(temps_m, temps_f).pvalue\n",
    "print(se_mf, t_mf, pval_mf)"
   ]
  },
  {
   "cell_type": "markdown",
   "metadata": {},
   "source": [
    "#### Question 6\n",
    "\n",
    "$H_0$ - $\\mu_m = \\mu_f$\n",
    "\n",
    "$H_A$ - $\\mu_m \\ne \\mu_f$\n",
    "\n",
    "Our difference in means standard error is calculated as\n",
    "$$SE_{mf} = \\sqrt{\\dfrac{s^2_m}{n_m} + \\dfrac{s^2_f}{n_f}} = \\sqrt{\\dfrac{0.48826}{65} + \\dfrac{0.55277}{65}} = 0.12655 $$ \n",
    "\n",
    "Our t-statistic is calculated thus -\n",
    "$$ T = \\dfrac{\\bar{x}_m - \\bar{x}_f}{SE_{mf}} = \\dfrac{98.10461 - 98.39384}{0.12655} = -2.28543$$\n",
    "\n",
    "The $p$-value is $0.02393$. Based on a $95\\%$ confidence interval, we would reject the null hypthesis."
   ]
  }
 ],
 "metadata": {
  "kernelspec": {
   "display_name": "Python 3",
   "language": "python",
   "name": "python3"
  },
  "language_info": {
   "codemirror_mode": {
    "name": "ipython",
    "version": 3
   },
   "file_extension": ".py",
   "mimetype": "text/x-python",
   "name": "python",
   "nbconvert_exporter": "python",
   "pygments_lexer": "ipython3",
   "version": "3.6.2"
  }
 },
 "nbformat": 4,
 "nbformat_minor": 1
}
