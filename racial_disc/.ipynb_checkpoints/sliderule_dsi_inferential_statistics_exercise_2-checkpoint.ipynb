{
 "cells": [
  {
   "cell_type": "markdown",
   "metadata": {},
   "source": [
    "# Examining Racial Discrimination in the US Job Market\n",
    "\n",
    "### Background\n",
    "Racial discrimination continues to be pervasive in cultures throughout the world. Researchers examined the level of racial discrimination in the United States labor market by randomly assigning identical résumés to black-sounding or white-sounding names and observing the impact on requests for interviews from employers.\n",
    "\n",
    "### Data\n",
    "In the dataset provided, each row represents a resume. The 'race' column has two values, 'b' and 'w', indicating black-sounding and white-sounding. The column 'call' has two values, 1 and 0, indicating whether the resume received a call from employers or not.\n",
    "\n",
    "Note that the 'b' and 'w' values in race are assigned randomly to the resumes when presented to the employer."
   ]
  },
  {
   "cell_type": "markdown",
   "metadata": {},
   "source": [
    "### Exercises\n",
    "You will perform a statistical analysis to establish whether race has a significant impact on the rate of callbacks for resumes.\n",
    "\n",
    "Answer the following questions **in this notebook below and submit to your Github account**. \n",
    "\n",
    "   1. What test is appropriate for this problem? Does CLT apply?\n",
    "   2. What are the null and alternate hypotheses?\n",
    "   3. Compute margin of error, confidence interval, and p-value.\n",
    "   4. Write a story describing the statistical significance in the context or the original problem.\n",
    "   5. Does your analysis mean that race/name is the most important factor in callback success? Why or why not? If not, how would you amend your analysis?\n",
    "\n",
    "You can include written notes in notebook cells using Markdown: \n",
    "   - In the control panel at the top, choose Cell > Cell Type > Markdown\n",
    "   - Markdown syntax: http://nestacms.com/docs/creating-content/markdown-cheat-sheet\n",
    "\n",
    "\n",
    "#### Resources\n",
    "+ Experiment information and data source: http://www.povertyactionlab.org/evaluation/discrimination-job-market-united-states\n",
    "+ Scipy statistical methods: http://docs.scipy.org/doc/scipy/reference/stats.html \n",
    "+ Markdown syntax: http://nestacms.com/docs/creating-content/markdown-cheat-sheet\n",
    "****"
   ]
  },
  {
   "cell_type": "code",
   "execution_count": 1,
   "metadata": {
    "collapsed": true
   },
   "outputs": [],
   "source": [
    "import pandas as pd\n",
    "import numpy as np\n",
    "from scipy import stats"
   ]
  },
  {
   "cell_type": "code",
   "execution_count": 2,
   "metadata": {
    "collapsed": true
   },
   "outputs": [],
   "source": [
    "data = pd.io.stata.read_stata('data/us_job_market_discrimination.dta')"
   ]
  },
  {
   "cell_type": "code",
   "execution_count": 3,
   "metadata": {},
   "outputs": [
    {
     "data": {
      "text/plain": [
       "157.0"
      ]
     },
     "execution_count": 3,
     "metadata": {},
     "output_type": "execute_result"
    }
   ],
   "source": [
    "# number of callbacks for black-sounding names\n",
    "sum(data[data.race=='b'].call)"
   ]
  },
  {
   "cell_type": "code",
   "execution_count": 11,
   "metadata": {},
   "outputs": [
    {
     "name": "stdout",
     "output_type": "stream",
     "text": [
      "Index(['id', 'ad', 'education', 'ofjobs', 'yearsexp', 'honors', 'volunteer',\n",
      "       'military', 'empholes', 'occupspecific', 'occupbroad', 'workinschool',\n",
      "       'email', 'computerskills', 'specialskills', 'firstname', 'sex', 'race',\n",
      "       'h', 'l', 'call', 'city', 'kind', 'adid', 'fracblack', 'fracwhite',\n",
      "       'lmedhhinc', 'fracdropout', 'fraccolp', 'linc', 'col', 'expminreq',\n",
      "       'schoolreq', 'eoe', 'parent_sales', 'parent_emp', 'branch_sales',\n",
      "       'branch_emp', 'fed', 'fracblack_empzip', 'fracwhite_empzip',\n",
      "       'lmedhhinc_empzip', 'fracdropout_empzip', 'fraccolp_empzip',\n",
      "       'linc_empzip', 'manager', 'supervisor', 'secretary', 'offsupport',\n",
      "       'salesrep', 'retailsales', 'req', 'expreq', 'comreq', 'educreq',\n",
      "       'compreq', 'orgreq', 'manuf', 'transcom', 'bankreal', 'trade',\n",
      "       'busservice', 'othservice', 'missind', 'ownership'],\n",
      "      dtype='object')\n",
      "['w' 'b']\n",
      "[ 0.  1.]\n"
     ]
    }
   ],
   "source": [
    "data.head()\n",
    "print(data.columns)\n",
    "print(data.race.unique())\n",
    "print(data.call.unique())"
   ]
  },
  {
   "cell_type": "code",
   "execution_count": 88,
   "metadata": {},
   "outputs": [
    {
     "name": "stdout",
     "output_type": "stream",
     "text": [
      "0.09650924024640657 0.06447638603696099\n",
      "2435 2435\n"
     ]
    }
   ],
   "source": [
    "# get calls grouped by race\n",
    "call_data = data[['race', 'call']].groupby('race')\n",
    "# get percentage of callbacks for each group\n",
    "call_data_pct = call_data.sum() / call_data.count()\n",
    "\n",
    "# save to varibles p_w and p_b\n",
    "p_w = float(call_data_pct.loc['w'])\n",
    "p_b = float(call_data_pct.loc['b'])\n",
    "\n",
    "# get the counts for each group\n",
    "n_w = len(data[data['race']=='w'])\n",
    "n_b = len(data[data['race']=='b'])\n",
    "\n",
    "print(p_w, p_b)\n",
    "print(n_w, n_b)"
   ]
  },
  {
   "cell_type": "markdown",
   "metadata": {},
   "source": [
    "#### Question 1\n",
    "For this problem, we would want to apply a difference in proportion hypothesis test. In the data, the values for race are either 'w' for white or 'b' for black. The values for callback are either 1 for called back or 0 for not called back.\n",
    "\n",
    "We want the proportion of callbacks for each race group.\n",
    "\n",
    "$P_w$ is the proportion of callbacks for white-sounding names. <br>\n",
    "$P_b$ is the proportion of callbacks for black-sounding names.\n",
    "\n",
    "The central limit theorm would apply because the count is sufficient for an asumed normal shape for the data."
   ]
  },
  {
   "cell_type": "markdown",
   "metadata": {},
   "source": [
    "2. What are the null and alternate hypotheses?"
   ]
  },
  {
   "cell_type": "markdown",
   "metadata": {},
   "source": [
    "#### Question 2\n",
    "The null hypothesis is that the proportion of callbacks between white- and black-sounding names are the same. The alternative is that they are not the same. \n",
    "\n",
    "$H_0$ - $P_w = P_b$<br>\n",
    "$H_A$ - $P_w \\ne P_b$\n",
    "\n"
   ]
  },
  {
   "cell_type": "code",
   "execution_count": 97,
   "metadata": {},
   "outputs": [
    {
     "name": "stdout",
     "output_type": "stream",
     "text": [
      "0.08049281314168377\n",
      "0.00779689403617 0.0152819123109\n",
      "4.10841215243\n",
      "[0.016750941898551489, 0.047314766520339682]\n",
      "3.90420910083e-05\n"
     ]
    }
   ],
   "source": [
    "# use 1.96 for a 95% confidence interval\n",
    "z_star = 1.96\n",
    "\n",
    "# we want a pooled sample proportion, p\n",
    "p = (p_w * n_w + p_b * n_b) / (n_w + n_b)\n",
    "print(p)\n",
    "# compute the standard error and margin of error\n",
    "se = np.sqrt(p*(1-p)/n_w + p*(1-p)/n_b)\n",
    "me = z_star * se\n",
    "\n",
    "# confidence interval\n",
    "ci = [p_w - p_b - me, p_w - p_b + me] \n",
    "\n",
    "# z-statistic\n",
    "z = (p_w - p_b) / se\n",
    "# two tailed p-value based on 1.96 CI\n",
    "pval = 1.96 * (1-stats.norm.cdf(z))\n",
    "\n",
    "print(se, me)\n",
    "print(z)\n",
    "print(ci)\n",
    "print(pval)"
   ]
  },
  {
   "cell_type": "markdown",
   "metadata": {},
   "source": [
    "#### Question 3\n",
    "\n",
    "To test the hypothesis, we will use a $95\\%$ confidence interval and two-tailed z-test.\n",
    "\n",
    "First, we caluclate the pooled sample proportion $\\bar{p}$ as \n",
    "\n",
    "$$\\bar{p} = \\dfrac{p_w + p_b}{n_w + n_b} = \\dfrac{0.096509 + 0.064476}{2435 + 2435} = 0.080492$$\n",
    "\n",
    "Calculate the standard error as \n",
    "$$SE_{\\bar{p}} = \\sqrt{\\dfrac{\\bar{p}(1-\\bar{p})}{n_w} + \\dfrac{\\bar{p}(1-\\bar{p})}{n_b}} = 0.0077968$$\n",
    "\n",
    "Margin of error is computed as $$z^* \\times SE_{\\bar{p}} = 1.96 * 0.0077968 = 0.015281$$\n",
    "\n",
    "Our $z$-statistic is calculated as \n",
    "\n",
    "$$z_{\\bar{p}} = \\dfrac{p_w - p_b}{SE_{\\bar{p}}} = 4.10841215243$$\n",
    "\n",
    "The $p$-value for this z-score based on a $\\pm1.96$ SE confidence interval would be $3.90420910083\\times10^{-5}$. Given this extremely small p-value less than 5% we would reject the null hypothesis."
   ]
  },
  {
   "cell_type": "markdown",
   "metadata": {},
   "source": [
    "#### Question 4\n",
    "\n",
    "Our hypothesis test results indicates that the likelihood that the discrepency in proportions between callbacks between those with white-sounding and black-sounding names is incredibly unlikely to have occurred by chance. With a $p$-value of less than $0.0004%$, this is a strong indication that there is a staticially significant evidence that the racial bias associated with an applicat's name has an measurable effect on whether an applicant is called back. "
   ]
  },
  {
   "cell_type": "markdown",
   "metadata": {},
   "source": [
    "#### Question 5\n",
    "\n",
    "This finding does not necesasrily mean that the race associated with an applicant's name is the most important variable in callback proportions. There are numerous other variables in the dataset including education, years of experience, and many others which could have an measurable impact, perhaps a stronger impact than the name racial assoication, in estimating how likely an applicat will be called back. To determine this, we would have to run a multivariable regression analysis on all of the explanatory variables and see which ones have the largest impact, and what the statistical significance of these other variables is."
   ]
  }
 ],
 "metadata": {
  "kernelspec": {
   "display_name": "Python 3",
   "language": "python",
   "name": "python3"
  },
  "language_info": {
   "codemirror_mode": {
    "name": "ipython",
    "version": 3
   },
   "file_extension": ".py",
   "mimetype": "text/x-python",
   "name": "python",
   "nbconvert_exporter": "python",
   "pygments_lexer": "ipython3",
   "version": "3.6.2"
  }
 },
 "nbformat": 4,
 "nbformat_minor": 1
}
